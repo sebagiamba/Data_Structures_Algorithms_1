{
 "cells": [
  {
   "cell_type": "markdown",
   "metadata": {},
   "source": [
    "# Generador de instancias:\n",
    ">Se guardan en la carpeta instancias\n"
   ]
  },
  {
   "cell_type": "code",
   "execution_count": 1,
   "metadata": {},
   "outputs": [],
   "source": [
    "import random, math\n",
    "import pandas as pd\n",
    "from random import randint, uniform,random\n",
    "import os\n",
    "from IPython.display import display, clear_output"
   ]
  },
  {
   "cell_type": "code",
   "execution_count": 2,
   "metadata": {},
   "outputs": [],
   "source": [
    "def save_instance(dataset, instance_name, Locales, CONTAGIO):\n",
    "    with open(F\"instancias/{dataset}/{instance_name}.txt\", \"w\") as f:\n",
    "        print(int(len(Locales)/2), CONTAGIO, file=f)\n",
    "        for m in Locales: \n",
    "            print(m, file=f, end=\" \")\n",
    "\n",
    "def save_index(dataset, instances):\n",
    "    with open(F\"instancias/{dataset}/instances.txt\", \"w\") as f:\n",
    "        for instance in instances: \n",
    "            print(instance, file=f)\n",
    "            \n",
    "def createInstancesDir(dir):\n",
    "    # Si no existe la carpeta la creo\n",
    "    if os.path.exists(F\"instancias/{dir}\") == False:\n",
    "        os.mkdir(F\"instancias/{dir}\")"
   ]
  },
  {
   "cell_type": "markdown",
   "metadata": {},
   "source": [
    "### Backtracking: peor caso\n",
    "#### PC-BT\n",
    "> El peor caso se genera ubicando la solución en el último nodo a recorrer del árbol de backtracking. Para eso se generan instancias desde 1 hasta CANT_INSTANCIAS locales con límite de contagio mayor o igual a CANT_INSTANCIAS. Cada local suma 1 beneficio y 1 contagio excepto el local solución que suma CANT_INSTANCIAS beneficio y contagio. De esa forma, el último local siempre es la solución."
   ]
  },
  {
   "cell_type": "code",
   "execution_count": 3,
   "metadata": {},
   "outputs": [],
   "source": [
    "filas_indices = []\n",
    "TIPO = \"PC-BT\"\n",
    "createInstancesDir(TIPO)"
   ]
  },
  {
   "cell_type": "code",
   "execution_count": 4,
   "metadata": {},
   "outputs": [],
   "source": [
    "CANT_INSTANCIAS = 31\n",
    "# MAX_CONTAGIO > CANT_INSTANCIAS\n",
    "MAX_CONTAGIO = CANT_INSTANCIAS\n",
    "BENEFICIO = 100 # Solución\n",
    "    \n",
    "for i in range(1, CANT_INSTANCIAS):\n",
    "    Locales = []\n",
    "    \n",
    "    for j in range(0, i-1):\n",
    "        Locales.append(1)\n",
    "        Locales.append(1)\n",
    "    \n",
    "    # Agrego el local solución al final.\n",
    "    Locales.append(BENEFICIO)\n",
    "    Locales.append(MAX_CONTAGIO)\n",
    "    \n",
    "    save_instance(TIPO, F\"{TIPO}-{i}\", Locales, MAX_CONTAGIO)\n",
    "    filas_indices.append([TIPO, F\"{TIPO}-{i}\", i, Locales, MAX_CONTAGIO, F\"instancias/{TIPO}/{TIPO}-{i}.txt\"])\n",
    "    \n",
    "pd.DataFrame(filas_indices, columns=[\"dataset\", \"instancia\", \"n\", \"Locales\", \"Contagio\", \"archivo\"]).to_csv(F\"instancias/{TIPO}/indice.csv\", index=False, header=True)"
   ]
  },
  {
   "cell_type": "markdown",
   "metadata": {},
   "source": [
    "### Backtracking: mejor caso\n",
    "#### MC-BT\n",
    "> El mejor caso se genera ubicando la solución en el primer nodo a recorrer del árbol de backtracking. Para eso se generan instancias desde 1 hasta CANT_INSTANCIAS locales, cada local suma 1 beneficio y contagio mayor al límite excepto el local solución que suma CANT_INSTANCIAS beneficio y contagio igual al límite. De esa forma, el primer local siempre es la solución."
   ]
  },
  {
   "cell_type": "code",
   "execution_count": 5,
   "metadata": {},
   "outputs": [],
   "source": [
    "filas_indices = []\n",
    "TIPO = \"MC-BT\"\n",
    "createInstancesDir(TIPO)"
   ]
  },
  {
   "cell_type": "code",
   "execution_count": 6,
   "metadata": {},
   "outputs": [],
   "source": [
    "CANT_INSTANCIAS = 7000\n",
    "MAX_CONTAGIO = 1 \n",
    "BENEFICIO = 100 # Solución\n",
    "    \n",
    "for i in range(1, CANT_INSTANCIAS):\n",
    "    Locales = []\n",
    "    \n",
    "    # Agrego el local solución al final.\n",
    "    Locales.append(BENEFICIO)\n",
    "    Locales.append(MAX_CONTAGIO)\n",
    "    \n",
    "    for j in range(0, i-1):\n",
    "        Locales.append(1)\n",
    "        Locales.append(MAX_CONTAGIO + 1)\n",
    "    \n",
    "    save_instance(TIPO, F\"{TIPO}-{i}\", Locales, MAX_CONTAGIO)\n",
    "    filas_indices.append([TIPO, F\"{TIPO}-{i}\", i, Locales, MAX_CONTAGIO, F\"instancias/{TIPO}/{TIPO}-{i}.txt\"])\n",
    "    \n",
    "pd.DataFrame(filas_indices, columns=[\"dataset\", \"instancia\", \"n\", \"Locales\", \"Contagio\", \"archivo\"]).to_csv(F\"instancias/{TIPO}/indice.csv\", index=False, header=True)"
   ]
  },
  {
   "cell_type": "markdown",
   "metadata": {},
   "source": [
    "### Programación dinamica.\n",
    "#### PD - Mismo contagio, diferente cantidad de negocios\n",
    "\n",
    "> La generación de la familia de instancias para esta prueba se modelo con un contagio maximo realtivamente alto en comparación al contagio que puede tener cada celda por separado, este mismo es variable pero en un rango acotado. ¿Por que? Pues porque para programación dinamica la cantidad de elementos distintos que tenga el vector va a hacer que no se repitan muchas celdas, y así podremos modelar un peor caso\n"
   ]
  },
  {
   "cell_type": "code",
   "execution_count": 7,
   "metadata": {},
   "outputs": [],
   "source": [
    "def crearInstanciasDCN(n, M):\n",
    "    filas_indices = []\n",
    "    # Concateno el max contagio porque voy a crear varios parecidos\n",
    "    TIPO = \"PD-DCN\" + \"-\" + str(M)\n",
    "    createInstancesDir(TIPO)\n",
    "    \n",
    "    for i in range(1, n):\n",
    "        Locales = []\n",
    "        \n",
    "        for j in range(0, i-1):\n",
    "            Locales.append(1)\n",
    "            #a = randint(1,i)\n",
    "            a = randint(1, M)\n",
    "            Locales.append(a)       \n",
    "\n",
    "        save_instance(TIPO, F\"{TIPO}-{i}\", Locales, M)\n",
    "        filas_indices.append([TIPO, F\"{TIPO}-{i}\", i, Locales, M, F\"instancias/{TIPO}/{TIPO}-{i}.txt\"])\n",
    "        clear_output(wait=True)\n",
    "        display('Instancia: ' + str(i) + \"/\" + str(n))\n",
    "    \n",
    "    pd.DataFrame(filas_indices, columns=[\"dataset\", \"instancia\", \"n\", \"Locales\", \"Contagio\", \"archivo\"]).to_csv(F\"instancias/{TIPO}/indice.csv\", index=False, header=True)"
   ]
  },
  {
   "cell_type": "code",
   "execution_count": 8,
   "metadata": {},
   "outputs": [
    {
     "data": {
      "text/plain": [
       "'Instancia: 6999/7000'"
      ]
     },
     "metadata": {},
     "output_type": "display_data"
    }
   ],
   "source": [
    "Ms = [4000, 6000, 8000, 10000]\n",
    "for M in Ms:\n",
    "    crearInstanciasDCN(7000, M)"
   ]
  },
  {
   "cell_type": "markdown",
   "metadata": {},
   "source": [
    "#### PD - Misma cantidad de negocios, diferente contagio"
   ]
  },
  {
   "cell_type": "code",
   "execution_count": 9,
   "metadata": {},
   "outputs": [],
   "source": [
    "def crearInstanciasDC(n, M):\n",
    "    filas_indices = []\n",
    "    # Concateno el max n porque voy a crear varios parecidos\n",
    "    TIPO = \"PD-DC\" + \"-\" + str(n)\n",
    "    createInstancesDir(TIPO)\n",
    "    \n",
    "    for i in range(1, M):\n",
    "        Locales = []\n",
    "        \n",
    "        for j in range(0, n-1):\n",
    "            Locales.append(1)\n",
    "            #a = randint(1,i)\n",
    "            a = randint(1, i)\n",
    "            Locales.append(a)       \n",
    "\n",
    "        save_instance(TIPO, F\"{TIPO}-{i}\", Locales, i)\n",
    "        filas_indices.append([TIPO, F\"{TIPO}-{i}\", i, Locales, i, F\"instancias/{TIPO}/{TIPO}-{i}.txt\"])\n",
    "        clear_output(wait=True)\n",
    "        display('Instancia: ' + str(i) + \"/\" + str(M))\n",
    "    \n",
    "    pd.DataFrame(filas_indices, columns=[\"dataset\", \"instancia\", \"n\", \"Locales\", \"Contagio\", \"archivo\"]).to_csv(F\"instancias/{TIPO}/indice.csv\", index=False, header=True)"
   ]
  },
  {
   "cell_type": "code",
   "execution_count": 10,
   "metadata": {},
   "outputs": [
    {
     "data": {
      "text/plain": [
       "'Instancia: 6999/7000'"
      ]
     },
     "metadata": {},
     "output_type": "display_data"
    }
   ],
   "source": [
    "ns = [4000, 6000, 8000, 10000]\n",
    "for n in ns:\n",
    "    crearInstanciasDC(n, 7000)"
   ]
  },
  {
   "cell_type": "markdown",
   "metadata": {},
   "source": [
    "# PD vs BT \n",
    "\n",
    "> Este experimento nacio de la pregunta ¿Que sucede con el beneficio? ¿Algún algoritmo es mas eficiente / menos eficiente variando el beneficio de los locales? \n"
   ]
  },
  {
   "cell_type": "code",
   "execution_count": 30,
   "metadata": {},
   "outputs": [],
   "source": [
    "filas_indices = []\n",
    "TIPO = \"PD-VS-BT\"\n",
    "createInstancesDir(TIPO)"
   ]
  },
  {
   "cell_type": "code",
   "execution_count": 31,
   "metadata": {},
   "outputs": [],
   "source": [
    "CANT_INSTANCIAS = 34\n",
    "MAX_CONTAGIO = 10000  \n",
    "    \n",
    "for i in range(1, CANT_INSTANCIAS):\n",
    "    Locales = []\n",
    "    \n",
    "    for j in range(0, i-1):\n",
    "        Locales.append(2**j)\n",
    "        a = randint(1,i)\n",
    "        Locales.append(a)       \n",
    "   \n",
    "    save_instance(TIPO, F\"{TIPO}-{i}\", Locales, MAX_CONTAGIO)\n",
    "    filas_indices.append([TIPO, F\"{TIPO}-{i}\", i, Locales, MAX_CONTAGIO, F\"instancias/{TIPO}/{TIPO}-{i}.txt\"])\n",
    "    \n",
    "pd.DataFrame(filas_indices, columns=[\"dataset\", \"instancia\", \"n\", \"Locales\", \"Contagio\", \"archivo\"]).to_csv(F\"instancias/{TIPO}/indice.csv\", index=False, header=True)"
   ]
  },
  {
   "cell_type": "code",
   "execution_count": 32,
   "metadata": {},
   "outputs": [],
   "source": [
    "filas_indices = []\n",
    "TIPO = \"PD-VS-BT-2\"\n",
    "createInstancesDir(TIPO)"
   ]
  },
  {
   "cell_type": "code",
   "execution_count": 33,
   "metadata": {},
   "outputs": [],
   "source": [
    "CANT_INSTANCIAS = 35\n",
    "MAX_CONTAGIO = 10000  \n",
    "    \n",
    "for i in range(1, CANT_INSTANCIAS):\n",
    "    Locales = []\n",
    "    \n",
    "    for j in range(0, i-1):\n",
    "        if j < i//4:\n",
    "            Locales.append(1)\n",
    "        elif j < i //2:\n",
    "            Locales.append(100)\n",
    "        elif j < i*3/4:\n",
    "            Locales.append(1)\n",
    "        else:\n",
    "            Locales.append(100)\n",
    "        a = randint(1,i)\n",
    "        Locales.append(a)       \n",
    "   \n",
    "    save_instance(TIPO, F\"{TIPO}-{i}\", Locales, MAX_CONTAGIO)\n",
    "    filas_indices.append([TIPO, F\"{TIPO}-{i}\", i, Locales, MAX_CONTAGIO, F\"instancias/{TIPO}/{TIPO}-{i}.txt\"])\n",
    "    \n",
    "pd.DataFrame(filas_indices, columns=[\"dataset\", \"instancia\", \"n\", \"Locales\", \"Contagio\", \"archivo\"]).to_csv(F\"instancias/{TIPO}/indice.csv\", index=False, header=True)"
   ]
  },
  {
   "cell_type": "markdown",
   "metadata": {},
   "source": [
    "#### Experimento 5: Rangos de Contagio (1)"
   ]
  },
  {
   "cell_type": "code",
   "execution_count": 14,
   "metadata": {},
   "outputs": [],
   "source": [
    "def crearInstanciasBC(n, M, m, tipo):\n",
    "    filas_indices = []\n",
    "    # Concateno el max contagio porque voy a crear varios parecidos\n",
    "    TIPO = tipo + \"-\" + str(m)\n",
    "    createInstancesDir(TIPO)\n",
    "    \n",
    "    for i in range(1, n):\n",
    "        Locales = []\n",
    "        \n",
    "        for j in range(0, i-1):\n",
    "            Locales.append(1)\n",
    "            a = randint(1, m)\n",
    "            Locales.append(a)       \n",
    "\n",
    "        save_instance(TIPO, F\"{TIPO}-{i}\", Locales, M)\n",
    "        filas_indices.append([TIPO, F\"{TIPO}-{i}\", i, Locales, M, F\"instancias/{TIPO}/{TIPO}-{i}.txt\"])\n",
    "        clear_output(wait=True)\n",
    "        display('Instancia: ' + str(i) + \"/\" + str(n))\n",
    "    \n",
    "    pd.DataFrame(filas_indices, columns=[\"dataset\", \"instancia\", \"n\", \"Locales\", \"Contagio\", \"archivo\"]).to_csv(F\"instancias/{TIPO}/indice.csv\", index=False, header=True)"
   ]
  },
  {
   "cell_type": "code",
   "execution_count": 23,
   "metadata": {},
   "outputs": [
    {
     "data": {
      "text/plain": [
       "'Instancia: 2999/3000'"
      ]
     },
     "metadata": {},
     "output_type": "display_data"
    }
   ],
   "source": [
    "ms = [10, 100, 1000]\n",
    "Ms = [10000]\n",
    "\n",
    "for M in Ms:\n",
    "    for m in ms:\n",
    "        crearInstanciasBC(3000, M, m, F\"PD-BC-{M}\")"
   ]
  },
  {
   "cell_type": "markdown",
   "metadata": {},
   "source": [
    "#### Experimento 6: Rangos de Contagio (2)"
   ]
  },
  {
   "cell_type": "code",
   "execution_count": 19,
   "metadata": {},
   "outputs": [],
   "source": [
    "def crearInstanciasBC2(n, M, m, tipo):\n",
    "    filas_indices = []\n",
    "    # Concateno el max contagio porque voy a crear varios parecidos\n",
    "    TIPO = tipo + \"-\" + str(m)\n",
    "    createInstancesDir(TIPO)\n",
    "    \n",
    "    for i in range(1, n):\n",
    "        Locales = []\n",
    "        \n",
    "        for j in range(0, i-1):\n",
    "            Locales.append(1)\n",
    "            a = randint(m-20, m)\n",
    "            Locales.append(a)       \n",
    "\n",
    "        save_instance(TIPO, F\"{TIPO}-{i}\", Locales, M)\n",
    "        filas_indices.append([TIPO, F\"{TIPO}-{i}\", i, Locales, M, F\"instancias/{TIPO}/{TIPO}-{i}.txt\"])\n",
    "        clear_output(wait=True)\n",
    "        display('Instancia: ' + str(i) + \"/\" + str(n))\n",
    "    \n",
    "    pd.DataFrame(filas_indices, columns=[\"dataset\", \"instancia\", \"n\", \"Locales\", \"Contagio\", \"archivo\"]).to_csv(F\"instancias/{TIPO}/indice.csv\", index=False, header=True)"
   ]
  },
  {
   "cell_type": "code",
   "execution_count": 22,
   "metadata": {},
   "outputs": [
    {
     "data": {
      "text/plain": [
       "'Instancia: 4999/5000'"
      ]
     },
     "metadata": {},
     "output_type": "display_data"
    }
   ],
   "source": [
    "ms = [20, 120, 220]\n",
    "Ms = [10000]\n",
    "\n",
    "for M in Ms:\n",
    "    for m in ms:\n",
    "        crearInstanciasBC2(5000, M, m, F\"PD-BC2-{m}\")"
   ]
  },
  {
   "cell_type": "markdown",
   "metadata": {},
   "source": [
    "#### Experimento 7: Comparación podas BT con 4 casos generales"
   ]
  },
  {
   "cell_type": "code",
   "execution_count": 17,
   "metadata": {},
   "outputs": [],
   "source": [
    "def crearInstanciasBTPodas(n, M, distBeneficio, nivelContagio, TIPO):\n",
    "    filas_indices = []\n",
    "    # Concateno el max contagio porque voy a crear varios parecidos\n",
    "    createInstancesDir(TIPO)\n",
    "    \n",
    "    for i in range(1, n):\n",
    "        Locales = []\n",
    "        \n",
    "        for j in range(0, i-1):\n",
    "            if distBeneficio is 'CONSTANTE':\n",
    "                b = randint(1, 2*i)\n",
    "            else:\n",
    "                b = randint(2*j,  2*(j+1))\n",
    "            Locales.append(b)\n",
    "            \n",
    "            if nivelContagio is 'ALTO':\n",
    "                m = randint(int(M/3), M/2)\n",
    "            else:\n",
    "                m = randint(1, int(M/4))\n",
    "            Locales.append(m)       \n",
    "\n",
    "        save_instance(TIPO, F\"{TIPO}-{i}\", Locales, M)\n",
    "        filas_indices.append([TIPO, F\"{TIPO}-{i}\", i, Locales, M, F\"instancias/{TIPO}/{TIPO}-{i}.txt\"])\n",
    "        clear_output(wait=True)\n",
    "        display('Instancia: ' + str(i) + \"/\" + str(n))\n",
    "    \n",
    "    pd.DataFrame(filas_indices, columns=[\"dataset\", \"instancia\", \"n\", \"Locales\", \"Contagio\", \"archivo\"]).to_csv(F\"instancias/{TIPO}/indice.csv\", index=False, header=True)"
   ]
  },
  {
   "cell_type": "code",
   "execution_count": 20,
   "metadata": {},
   "outputs": [
    {
     "data": {
      "text/plain": [
       "'Instancia: 32/33'"
      ]
     },
     "metadata": {},
     "output_type": "display_data"
    }
   ],
   "source": [
    "n = 33\n",
    "M = 100\n",
    "\n",
    "bMaxs = [\"CONSTANTE\", \"INCREMENTAL\"]\n",
    "nivelesContagio = [\"BAJO\", \"ALTO\"]\n",
    "\n",
    "for i in range(0, len(bMaxs)):\n",
    "    for j in range(0, len(nivelesContagio)):\n",
    "        crearInstanciasBTPodas(n, M, bMaxs[i], nivelesContagio[j], F\"BT-PODA-{bMaxs[i]}-{nivelesContagio[j]}\")"
   ]
  },
  {
   "cell_type": "code",
   "execution_count": 3,
   "metadata": {},
   "outputs": [
    {
     "name": "stdout",
     "output_type": "stream",
     "text": [
      "0\n",
      "1\n"
     ]
    }
   ],
   "source": []
  },
  {
   "cell_type": "code",
   "execution_count": null,
   "metadata": {},
   "outputs": [],
   "source": []
  }
 ],
 "metadata": {
  "kernelspec": {
   "display_name": "Python 3",
   "language": "python",
   "name": "python3"
  },
  "language_info": {
   "codemirror_mode": {
    "name": "ipython",
    "version": 3
   },
   "file_extension": ".py",
   "mimetype": "text/x-python",
   "name": "python",
   "nbconvert_exporter": "python",
   "pygments_lexer": "ipython3",
   "version": "3.6.9"
  }
 },
 "nbformat": 4,
 "nbformat_minor": 4
}
